{
 "cells": [
  {
   "cell_type": "code",
   "execution_count": null,
   "metadata": {},
   "outputs": [],
   "source": [
    "import pandas as pd\n",
    "import numpy as np\n",
    "from sklearn.impute import SimpleImputer\n",
    "from sklearn.preprocessing import MinMaxScaler\n",
    "import tensorflow as tf\n",
    "from sklearn.model_selection import train_test_split\n",
    "from sklearn.model_selection import GridSearchCV\n",
    "from keras.wrappers.scikit_learn import KerasClassifier\n",
    "from time import time"
   ]
  },
  {
   "cell_type": "code",
   "execution_count": null,
   "metadata": {},
   "outputs": [],
   "source": [
    "# tensor =tf.constant([[1,2,3],[4,5,6]])\n",
    "\n",
    "# tensor.numpy()"
   ]
  },
  {
   "cell_type": "code",
   "execution_count": null,
   "metadata": {},
   "outputs": [],
   "source": [
    "df_pagamentos= pd.read_csv('/home/alessandro/tcc/dados/payment_data.csv')\n",
    "df_pagamentos.set_index('id', inplace=True) # seta o id como index\n",
    "df_consumidores = pd.read_csv('/home/alessandro/tcc/dados/customer_data.csv')\n",
    "df_consumidores.set_index('id', inplace=True) # seta o id como index"
   ]
  },
  {
   "cell_type": "code",
   "execution_count": null,
   "metadata": {},
   "outputs": [],
   "source": [
    "dados_consumidores=df_consumidores.join(df_pagamentos, how='inner') # junta os dois dataframes\n",
    "dados_consumidores.columns"
   ]
  },
  {
   "cell_type": "code",
   "execution_count": null,
   "metadata": {},
   "outputs": [],
   "source": [
    "colunas=['alvo',\n",
    " 'recurso_1',\n",
    " 'recurso_2',\n",
    " 'recurso_3',\n",
    " 'recurso_4',\n",
    " 'recurso_5',\n",
    " 'recurso_6',\n",
    " 'recurso_7',\n",
    " 'recurso_8',\n",
    " 'recurso_9',\n",
    " 'recurso_10',\n",
    " 'recurso_11',\n",
    " 'atraso_t1',\n",
    " 'atraso_t2',\n",
    " 'atraso_t3',\n",
    " 'atraso_total',\n",
    " 'pagemento_normal',\n",
    " 'codigo_produto',\n",
    " 'limite_credito',\n",
    " 'data_atualizada',\n",
    " 'saldo_atual_produto',\n",
    " 'saldo_mais_alto_produto',\n",
    " 'report_date']\n",
    "\n",
    "\n",
    "dados_consumidores.columns=colunas\n",
    "dados_consumidores.to_excel(\"\")"
   ]
  },
  {
   "cell_type": "code",
   "execution_count": null,
   "metadata": {},
   "outputs": [],
   "source": [
    "dados_consumidores['alvo'].value_counts() # conta quantas vezes cada label aparece"
   ]
  },
  {
   "cell_type": "code",
   "execution_count": null,
   "metadata": {},
   "outputs": [],
   "source": [
    "dados_consumidores.isnull().sum() # conta quantos valores faltantes"
   ]
  },
  {
   "cell_type": "code",
   "execution_count": null,
   "metadata": {},
   "outputs": [],
   "source": [
    "dados_consumidores['codigo_produto'].value_counts() # conta quantas vezes cada categoria aparece"
   ]
  },
  {
   "cell_type": "code",
   "execution_count": null,
   "metadata": {},
   "outputs": [],
   "source": [
    "for prod_code in dados_consumidores[\"codigo_produto\"].unique():\n",
    "    \n",
    "    dados_consumidores[\"codigo_produto{}\".format(prod_code)] = dados_consumidores[\"codigo_produto\"] == prod_code\n",
    "    \n",
    "dados_consumidores\n",
    "\n"
   ]
  },
  {
   "cell_type": "code",
   "execution_count": null,
   "metadata": {},
   "outputs": [],
   "source": [
    "dados_consumidores['recurso_4'].unique()"
   ]
  },
  {
   "cell_type": "code",
   "execution_count": null,
   "metadata": {},
   "outputs": [],
   "source": [
    "for feature_id in [1, 3, 5, 6, 7, 9]:\n",
    "    for value in dados_consumidores[\"recurso_{}\".format(feature_id)].unique():\n",
    "        dados_consumidores[\"recurso_{}_{}\".format(feature_id, value)] = dados_consumidores[\"recurso_{}\".format(feature_id)] == value\n",
    "dados_consumidores\n"
   ]
  },
  {
   "cell_type": "code",
   "execution_count": null,
   "metadata": {},
   "outputs": [],
   "source": [
    "dados_consumidores = dados_consumidores.drop([\"limite_credito\", \"report_date\", \"data_atualizada\", \"codigo_produto\", \"recurso_1\", \"recurso_3\", \"recurso_5\", \"recurso_6\", \"recurso_7\", \"recurso_9\"], axis=1)"
   ]
  },
  {
   "cell_type": "code",
   "execution_count": null,
   "metadata": {},
   "outputs": [],
   "source": [
    "dados_consumidores_array_np = dados_consumidores.to_numpy(na_value=np.nan).astype(float)"
   ]
  },
  {
   "cell_type": "code",
   "execution_count": null,
   "metadata": {},
   "outputs": [],
   "source": [
    "\n",
    "\n",
    "#imp_mean = SimpleImputer(missing_values=np.nan, strategy='mean')\n",
    "\n",
    "imputer = SimpleImputer(verbose=2)\n",
    "data = imputer.fit_transform(dados_consumidores_array_np)\n",
    "\n",
    "# (dados_consumidores==np.nan).any()\n",
    "# print(imp_mean)"
   ]
  },
  {
   "cell_type": "code",
   "execution_count": null,
   "metadata": {},
   "outputs": [],
   "source": [
    "scaler = MinMaxScaler()\n",
    "\n",
    "dados_consumidores_normalizado =scaler.fit_transform(data)\n",
    "\n",
    "dados_teste =scaler.fit_transform(data)\n"
   ]
  },
  {
   "cell_type": "code",
   "execution_count": null,
   "metadata": {},
   "outputs": [],
   "source": [
    "# balanceado o base de dados\n",
    "mask = dados_consumidores_normalizado[:, 0] == 1\n",
    "risk_customers = dados_consumidores_normalizado[mask]\n",
    "print(\"numero de clientes com risco de crédito alto = {}\".format(risk_customers.shape[0]))\n",
    "\n",
    "safe_customers = dados_consumidores_normalizado[~mask]\n",
    "indices = np.random.choice(safe_customers.shape[0], risk_customers.shape[0]*2, replace=False)\n",
    "safe_customers = safe_customers[indices]\n",
    "print(\"numero de clientes com risco de crédito baixo = {}\".format(safe_customers.shape[0]))\n",
    "\n",
    "dados_consumidores_normalizado = np.concatenate([risk_customers, safe_customers], axis=0)\n",
    "print(\"tamanho do novo dataframe = \", dados_consumidores_normalizado.shape)"
   ]
  },
  {
   "cell_type": "code",
   "execution_count": null,
   "metadata": {},
   "outputs": [],
   "source": [
    "\n",
    "X=dados_consumidores_normalizado[:,1:]  # features\n",
    "y=dados_consumidores_normalizado[:,0] #label \n",
    "\n",
    "X_train, X_test, y_train, y_test = train_test_split(X, y, test_size=0.33, random_state=10)\n",
    "\n"
   ]
  },
  {
   "cell_type": "code",
   "execution_count": null,
   "metadata": {},
   "outputs": [],
   "source": [
    "\n",
    "def create_model(optimizer='adam'):\n",
    "\n",
    "    model =tf.keras.models.Sequential()\n",
    "\n",
    "    model.add(tf.keras.layers.Dense(units=64, input_shape=(69,)))\n",
    "    model.add(tf.keras.layers.Dense(36, activation='relu'))\n",
    "    model.add(tf.keras.layers.Dense(18, activation='relu'))\n",
    "    model.add(tf.keras.layers.Dense(9, activation='relu'))\n",
    "\n",
    "    model.add(tf.keras.layers.Dense(units=1, activation='sigmoid'))\n",
    "\n",
    "\n",
    "    model.compile(optimizer=optimizer,\n",
    "                loss='binary_crossentropy',\n",
    "                metrics=['accuracy'])\n",
    "\n",
    "    return model\n",
    "\n",
    "model=create_model()\n",
    "# model = KerasClassifier(build_fn=create_model, verbose=1)\n",
    "\n",
    "# optimizers = ['rmsprop','adam']\n",
    "# epochs = np.array([10])\n",
    "# batches = np.array([32])\n",
    "\n",
    "# param_grid= dict(optimizer=optimizers, epochs=epochs, batch_size=batches)\n",
    "# grid= GridSearchCV(estimator=model, param_grid=param_grid)\n",
    "\n",
    "# start=time()\n",
    "# grid_result = grid.fit(X_train, y_train)\n",
    "# print(\"Best: %f using %s\" % (grid_result.best_score_, grid_result.best_params_))\n",
    "# for params, mean_score, scores in grid_result.grid_scores_:\n",
    "#     print(\"%f (%f) with: %r\" % (scores.mean(), scores.std(), params))\n",
    "# print(\"total time:\",time()-start)"
   ]
  },
  {
   "cell_type": "code",
   "execution_count": null,
   "metadata": {},
   "outputs": [],
   "source": [
    "model.fit(X_train, y_train, epochs=500, batch_size=32, verbose=0)\n",
    "model.evaluate(X_test, y_test, verbose=0)"
   ]
  },
  {
   "cell_type": "code",
   "execution_count": null,
   "metadata": {},
   "outputs": [],
   "source": [
    "\n",
    "\n",
    "yk=model.predict(X_test)\n",
    "score=model.evaluate(X_test, y_test)\n",
    "resposta=np.array([1 if yk[i]>0.5 else 0 for i in range(len(yk))])\n",
    "bons_pagadores=resposta==0 \n",
    "\n",
    "print(\"Bom pagador\",resposta[bons_pagadores].shape[0])\n",
    "print(\"Mau pagador\",resposta[~bons_pagadores].shape[0])\n",
    "\n",
    "\n",
    "resp=np.array(resposta).reshape(-1,1)\n",
    "alvo=np.array(y_test).reshape(-1,1)\n",
    "comparativo=np.append(alvo,resp,axis=1)\n",
    "\n",
    "\n",
    "df_saida=pd.DataFrame(comparativo, columns=['alvo','previsto'])\n",
    "\n",
    "# df=pd.DataFrame(data=resposta, index=y_test, columns=['label'])\n",
    "# df.loc[df['label']==1,'label']='Mau pagador'\n",
    "# df.loc[df['label']==0,'label']='Bom pagador'\n",
    "df_saida.to_excel('resultado.xlsx', index=False)"
   ]
  },
  {
   "cell_type": "code",
   "execution_count": null,
   "metadata": {},
   "outputs": [],
   "source": [
    "# # balance the dataset\n",
    "# mask = dados_teste[:, 0] == 1\n",
    "\n",
    "# risk_customers = dados_teste[mask]\n",
    "# print(\"number of risk customers = {}\".format(risk_customers.shape[0]))\n",
    "\n",
    "# safe_customers = dados_teste[~mask]\n",
    "# indices = np.random.choice(safe_customers.shape[0], risk_customers.shape[0]*2, replace=False)\n",
    "\n",
    "# safe_customers = safe_customers[indices]\n",
    "# print(\"number of safe customers = {}\".format(safe_customers.shape[0]))\n",
    "\n",
    "# data = np.concatenate([risk_customers, safe_customers], axis=0)\n",
    "# print(\"Shape of selected data = \", dados_teste.shape)ll"
   ]
  }
 ],
 "metadata": {
  "interpreter": {
   "hash": "e7370f93d1d0cde622a1f8e1c04877d8463912d04d973331ad4851f04de6915a"
  },
  "kernelspec": {
   "display_name": "Python 3.8.10 64-bit",
   "language": "python",
   "name": "python3"
  },
  "language_info": {
   "codemirror_mode": {
    "name": "ipython",
    "version": 3
   },
   "file_extension": ".py",
   "mimetype": "text/x-python",
   "name": "python",
   "nbconvert_exporter": "python",
   "pygments_lexer": "ipython3",
   "version": "3.8.10"
  },
  "orig_nbformat": 4
 },
 "nbformat": 4,
 "nbformat_minor": 2
}
